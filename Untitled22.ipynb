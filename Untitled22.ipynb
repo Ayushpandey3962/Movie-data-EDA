{
  "cells": [
    {
      "cell_type": "code",
      "execution_count": null,
      "metadata": {
        "id": "GgCE4xxUaaG9"
      },
      "outputs": [
        {
          "ename": "",
          "evalue": "",
          "output_type": "error",
          "traceback": [
            "\u001b[1;31mRunning cells with 'Python 3.11.9' requires the ipykernel package.\n",
            "\u001b[1;31m<a href='command:jupyter.createPythonEnvAndSelectController'>Create a Python Environment</a> with the required packages.\n",
            "\u001b[1;31mOr install 'ipykernel' using the command: '\"c:/Users/Ayush Pandey/AppData/Local/Microsoft/WindowsApps/python3.11.exe\" -m pip install ipykernel -U --user --force-reinstall'"
          ]
        }
      ],
      "source": [
        "import pandas as pd\n",
        "import numpy as np\n",
        "import os\n",
        "\n",
        "# for visualizations\n",
        "import matplotlib.pyplot as plt\n",
        "import seaborn as sns\n",
        "\n",
        "%matplotlib inline\n",
        "plt.style.use('dark_background')\n",
        "\n",
        "# display multiple output in single cell\n",
        "from IPython.display import display\n",
        "from IPython.core.interactiveshell import InteractiveShell\n",
        "InteractiveShell.ast_node_interactivity = \"all\"\n",
        "\n",
        "# data\n",
        "# import os\n",
        "# for dirname, _, filenames in os.walk('/kaggle/input'):\n",
        "#     for filename in filenames:\n",
        "#         print(os.path.join(dirname, filename))"
      ]
    },
    {
      "cell_type": "code",
      "execution_count": null,
      "metadata": {
        "colab": {
          "base_uri": "https://localhost:8080/"
        },
        "id": "SNeWhY-fadPn",
        "outputId": "4c55fc1d-cc14-4006-90f8-22e36b0f641f"
      },
      "outputs": [],
      "source": [
        "%time train = pd.read_csv('/data/train.csv', engine='python')"
      ]
    },
    {
      "cell_type": "code",
      "execution_count": null,
      "metadata": {
        "colab": {
          "base_uri": "https://localhost:8080/",
          "height": 1000
        },
        "id": "wAr7t_fkaoxi",
        "outputId": "1b10f3f5-0ef0-48ba-c963-b04baff9c55c"
      },
      "outputs": [],
      "source": [
        "train.head(n=10)"
      ]
    },
    {
      "cell_type": "code",
      "execution_count": null,
      "metadata": {
        "colab": {
          "base_uri": "https://localhost:8080/"
        },
        "id": "AuNmRE4fgvhf",
        "outputId": "4ecf86a4-bc2c-4178-86fe-6a269d754dbb"
      },
      "outputs": [],
      "source": [
        "print(\"Shape of data is \")\n",
        "train.shape\n",
        "print('The total number of movies are',train.shape[0])"
      ]
    },
    {
      "cell_type": "code",
      "execution_count": null,
      "metadata": {
        "colab": {
          "base_uri": "https://localhost:8080/"
        },
        "id": "avFLMsG7gx4q",
        "outputId": "768241f1-abf3-45c1-b25b-93809032e051"
      },
      "outputs": [],
      "source": [
        "train.info()"
      ]
    },
    {
      "cell_type": "code",
      "execution_count": null,
      "metadata": {
        "colab": {
          "base_uri": "https://localhost:8080/",
          "height": 547
        },
        "id": "tX-SZ148g001",
        "outputId": "23950a8f-45c2-48e9-e56d-3035e81dd5ce"
      },
      "outputs": [],
      "source": [
        "train.describe(include='all')"
      ]
    },
    {
      "cell_type": "code",
      "execution_count": null,
      "metadata": {
        "colab": {
          "base_uri": "https://localhost:8080/",
          "height": 805
        },
        "id": "l2gfgot_g3yB",
        "outputId": "794da364-40e7-4542-b70e-15ee0a1660c1"
      },
      "outputs": [],
      "source": [
        "train.isnull().sum()"
      ]
    },
    {
      "cell_type": "code",
      "execution_count": null,
      "metadata": {
        "id": "Jg_8sGEug6EN"
      },
      "outputs": [],
      "source": [
        "train = train.drop(['belongs_to_collection', 'genres', 'crew', 'cast', 'Keywords',\n",
        "                  'spoken_languages', 'production_companies', 'production_countries', 'tagline','overview','homepage'], axis=1)"
      ]
    },
    {
      "cell_type": "code",
      "execution_count": null,
      "metadata": {
        "colab": {
          "base_uri": "https://localhost:8080/"
        },
        "id": "muFoyHkMg8li",
        "outputId": "e23a7b21-5524-4281-be74-e9812bb1cd17"
      },
      "outputs": [],
      "source": [
        "train['release_date'] = pd.to_datetime(train['release_date'], infer_datetime_format=True)\n",
        "train['release_day'] = train['release_date'].apply(lambda t: t.day)\n",
        "train['release_weekday'] = train['release_date'].apply(lambda t: t.weekday())\n",
        "train['release_month'] = train['release_date'].apply(lambda t: t.month)\n",
        "\n",
        "# Year was being interpreted as future dates in some cases so I had to adjust some values\n",
        "train['release_year'] = train['release_date'].apply(lambda t: t.year if t.year < 2018 else t.year -100)"
      ]
    },
    {
      "cell_type": "code",
      "execution_count": null,
      "metadata": {
        "colab": {
          "base_uri": "https://localhost:8080/",
          "height": 118
        },
        "id": "yRp-cGXng-aA",
        "outputId": "37c9aae4-c881-4490-f142-2e9b95bc49be"
      },
      "outputs": [],
      "source": [
        "train[train['revenue'] == train['revenue'].max()]"
      ]
    },
    {
      "cell_type": "code",
      "execution_count": null,
      "metadata": {
        "colab": {
          "base_uri": "https://localhost:8080/",
          "height": 363
        },
        "id": "aLonXm4WhAeH",
        "outputId": "23573296-5710-438c-d011-1d3c495523fd"
      },
      "outputs": [],
      "source": [
        "train[['id','title','budget','revenue']].sort_values(['revenue'], ascending=False).head(10).style.background_gradient(subset='revenue', cmap='BuGn')"
      ]
    },
    {
      "cell_type": "code",
      "execution_count": null,
      "metadata": {
        "colab": {
          "base_uri": "https://localhost:8080/",
          "height": 187
        },
        "id": "piNPgbfNhCoR",
        "outputId": "e06ce0da-deb8-49a2-d08a-f16204582355"
      },
      "outputs": [],
      "source": [
        "train[train['budget'] == train['budget'].max()]"
      ]
    },
    {
      "cell_type": "code",
      "execution_count": null,
      "metadata": {
        "colab": {
          "base_uri": "https://localhost:8080/",
          "height": 363
        },
        "id": "Joiptn4OhH_s",
        "outputId": "8b7c734a-3109-4715-8b72-6d1fec129144"
      },
      "outputs": [],
      "source": [
        "train[['id','title','budget', 'revenue']].sort_values(['budget'], ascending=False).head(10).style.background_gradient(subset=['budget', 'revenue'], cmap='PuBu')"
      ]
    },
    {
      "cell_type": "code",
      "execution_count": null,
      "metadata": {
        "colab": {
          "base_uri": "https://localhost:8080/",
          "height": 100
        },
        "id": "1aVsH1XJhJ_R",
        "outputId": "d9cd3423-3bd0-4296-c984-4bb5c09cedd5"
      },
      "outputs": [],
      "source": [
        "train[train['runtime'] == train['runtime'].max()]"
      ]
    },
    {
      "cell_type": "code",
      "execution_count": null,
      "metadata": {
        "colab": {
          "base_uri": "https://localhost:8080/",
          "height": 769
        },
        "id": "-VB1adUkhM2J",
        "outputId": "3fdc6418-8eaa-4d65-b632-ec9a34199b8b"
      },
      "outputs": [],
      "source": [
        "plt.hist(train['runtime'].fillna(0) / 60, bins=40);\n",
        "plt.title('Distribution of length of film in hours', fontsize=16, color='white');\n",
        "plt.xlabel('Duration of Movie in Hours')\n",
        "plt.ylabel('Number of Movies')"
      ]
    },
    {
      "cell_type": "code",
      "execution_count": null,
      "metadata": {
        "colab": {
          "base_uri": "https://localhost:8080/",
          "height": 363
        },
        "id": "yAjfKxbRhPVA",
        "outputId": "006cf0e0-24d1-4154-f563-57c56332cc87"
      },
      "outputs": [],
      "source": [
        "train[['id','title','runtime', 'budget', 'revenue']].sort_values(['runtime'],ascending=False).head(10).style.background_gradient(subset=['runtime','budget','revenue'], cmap='YlGn')"
      ]
    },
    {
      "cell_type": "code",
      "execution_count": null,
      "metadata": {
        "colab": {
          "base_uri": "https://localhost:8080/",
          "height": 1000
        },
        "id": "WGg7GYAVhRwJ",
        "outputId": "25c4916e-cdff-4f29-8f9f-d1cd959d87cd"
      },
      "outputs": [],
      "source": [
        "plt.figure(figsize=(20,12))\n",
        "edgecolor=(0,0,0),\n",
        "sns.countplot(train['release_year'].sort_values(), palette = \"Dark2\", edgecolor=(0,0,0))\n",
        "plt.title(\"Movie Release count by Year\",fontsize=20)\n",
        "plt.xlabel('Release Year')\n",
        "plt.ylabel('Number of Movies Release')\n",
        "plt.xticks(fontsize=12,rotation=90)\n",
        "plt.show()"
      ]
    },
    {
      "cell_type": "code",
      "execution_count": null,
      "metadata": {
        "colab": {
          "base_uri": "https://localhost:8080/",
          "height": 272
        },
        "id": "K9HpwuDFhTii",
        "outputId": "c5a7baad-843c-4790-dcfa-cdd3097ada23"
      },
      "outputs": [],
      "source": [
        "train['release_year'].value_counts().head()"
      ]
    },
    {
      "cell_type": "code",
      "execution_count": null,
      "metadata": {
        "colab": {
          "base_uri": "https://localhost:8080/",
          "height": 80
        },
        "id": "yv5RyKt2hnGy",
        "outputId": "d1843974-0c5e-4d45-bf57-05febfbcfb9f"
      },
      "outputs": [],
      "source": [
        "train[train['popularity']==train['popularity'].max()][['original_title','popularity','release_date','revenue']]"
      ]
    },
    {
      "cell_type": "code",
      "execution_count": null,
      "metadata": {
        "colab": {
          "base_uri": "https://localhost:8080/",
          "height": 80
        },
        "id": "A7xL8VE0huAv",
        "outputId": "15f9cbb2-25fe-4eed-f922-878080a808f9"
      },
      "outputs": [],
      "source": [
        "train[train['popularity']==train['popularity'].min()][['original_title','popularity','release_date','revenue']]"
      ]
    },
    {
      "cell_type": "code",
      "execution_count": null,
      "metadata": {
        "colab": {
          "base_uri": "https://localhost:8080/",
          "height": 1000
        },
        "id": "As__EQufhy-j",
        "outputId": "561ea040-4882-4136-bfb4-d3a3364588c4"
      },
      "outputs": [],
      "source": [
        "plt.figure(figsize=(20,12))\n",
        "edgecolor=(0,0,0),\n",
        "sns.distplot(train['popularity'], kde=False)\n",
        "plt.title(\"Movie Popularity Count\",fontsize=20)\n",
        "plt.xlabel('Popularity')\n",
        "plt.ylabel('Count')\n",
        "plt.xticks(fontsize=12,rotation=90)\n",
        "plt.show()"
      ]
    },
    {
      "cell_type": "code",
      "execution_count": null,
      "metadata": {
        "colab": {
          "base_uri": "https://localhost:8080/",
          "height": 1000
        },
        "id": "-VTm_VO4h0kp",
        "outputId": "f9aa6774-c819-4368-ed0e-bdef10664b08"
      },
      "outputs": [],
      "source": [
        "plt.figure(figsize=(20,12))\n",
        "edgecolor=(0,0,0),\n",
        "sns.countplot(train['release_month'].sort_values(), palette = \"Dark2\", edgecolor=(0,0,0))\n",
        "plt.title(\"Movie Release count by Month\",fontsize=20)\n",
        "plt.xlabel('Release Month')\n",
        "plt.ylabel('Number of Movies Release')\n",
        "plt.xticks(fontsize=12)\n",
        "plt.show()"
      ]
    },
    {
      "cell_type": "code",
      "execution_count": null,
      "metadata": {
        "colab": {
          "base_uri": "https://localhost:8080/",
          "height": 491
        },
        "id": "ig2bYq10h3Yt",
        "outputId": "8dffcd24-61f9-41b8-8841-e8caad75a61e"
      },
      "outputs": [],
      "source": [
        "train['release_month'].value_counts()"
      ]
    },
    {
      "cell_type": "code",
      "execution_count": null,
      "metadata": {
        "colab": {
          "base_uri": "https://localhost:8080/",
          "height": 1000
        },
        "id": "1oEwdaOLh67O",
        "outputId": "d6a97b62-c24a-4077-8b9a-db92e63f66c0"
      },
      "outputs": [],
      "source": [
        "plt.figure(figsize=(20,12))\n",
        "edgecolor=(0,0,0),\n",
        "sns.countplot(train['release_day'].sort_values(), palette = \"Dark2\", edgecolor=(0,0,0))\n",
        "plt.title(\"Movie Release count by Day of Month\",fontsize=20)\n",
        "plt.xlabel('Release Day')\n",
        "plt.ylabel('Number of Movies Release')\n",
        "plt.xticks(fontsize=12)\n",
        "plt.show()"
      ]
    },
    {
      "cell_type": "code",
      "execution_count": null,
      "metadata": {
        "colab": {
          "base_uri": "https://localhost:8080/",
          "height": 1000
        },
        "id": "liRqxkjiiB2M",
        "outputId": "0cf809f1-6b43-4a87-fccd-22da1c1bef69"
      },
      "outputs": [],
      "source": [
        "train['release_day'].value_counts()"
      ]
    },
    {
      "cell_type": "code",
      "execution_count": null,
      "metadata": {
        "colab": {
          "base_uri": "https://localhost:8080/",
          "height": 1000
        },
        "id": "kBBAAkwviFxI",
        "outputId": "0445ff38-9c9f-44ee-f558-7e81415ddc84"
      },
      "outputs": [],
      "source": [
        "plt.figure(figsize=(20,12))\n",
        "sns.countplot(train['release_weekday'].sort_values(), palette='Dark2')\n",
        "loc = np.array(range(len(train['release_weekday'].unique())))\n",
        "day_labels = ['Mon', 'Tue', 'Wed', 'Thu', 'Fri', 'Sat', 'Sun']\n",
        "plt.xlabel('Release Day of Week')\n",
        "plt.ylabel('Number of Movies Release')\n",
        "plt.xticks(loc, day_labels, fontsize=12)\n",
        "plt.show()"
      ]
    },
    {
      "cell_type": "code",
      "execution_count": null,
      "metadata": {
        "colab": {
          "base_uri": "https://localhost:8080/",
          "height": 335
        },
        "id": "9_Ri7LtriIxg",
        "outputId": "f115d303-3942-4197-96e0-3220944f7647"
      },
      "outputs": [],
      "source": [
        "train['release_weekday'].value_counts()"
      ]
    },
    {
      "cell_type": "code",
      "execution_count": null,
      "metadata": {
        "id": "U4J2m0y0iKjG"
      },
      "outputs": [],
      "source": []
    }
  ],
  "metadata": {
    "colab": {
      "provenance": []
    },
    "kernelspec": {
      "display_name": "Python 3",
      "name": "python3"
    },
    "language_info": {
      "name": "python",
      "version": "3.11.9"
    }
  },
  "nbformat": 4,
  "nbformat_minor": 0
}
